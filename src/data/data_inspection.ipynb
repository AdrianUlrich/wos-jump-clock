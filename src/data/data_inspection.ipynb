{
 "cells": [
  {
   "cell_type": "code",
   "id": "initial_id",
   "metadata": {
    "collapsed": true
   },
   "source": [
    "from importlib.resources import files\n",
    "\n",
    "import pandas as pd\n",
    "from bs4 import BeautifulSoup\n",
    "\n",
    "from src import time_conversions"
   ],
   "outputs": [],
   "execution_count": null
  },
  {
   "metadata": {},
   "cell_type": "code",
   "source": [
    "# Load the HTML content\n",
    "data_file = [f for f in files('src').joinpath('data').iterdir() if f.name.endswith('.html')][0]\n",
    "with open(data_file, 'r') as file:\n",
    "    content = file.read()"
   ],
   "id": "8f18e37eb9125107",
   "outputs": [],
   "execution_count": null
  },
  {
   "metadata": {},
   "cell_type": "code",
   "source": [
    "# Parse the HTML content\n",
    "soup = BeautifulSoup(content, 'html.parser')"
   ],
   "id": "d89acc5cb2effc28",
   "outputs": [],
   "execution_count": null
  },
  {
   "metadata": {},
   "cell_type": "code",
   "source": [
    "# Extract the table that has type=results\n",
    "table = soup.find('table', {'class': 'results'})\n",
    "table"
   ],
   "id": "6659b983350c7da7",
   "outputs": [],
   "execution_count": null
  },
  {
   "metadata": {},
   "cell_type": "code",
   "source": [
    "# Extract the table rows\n",
    "rows = table.find_all('tr')"
   ],
   "id": "177270a60328882b",
   "outputs": [],
   "execution_count": null
  },
  {
   "metadata": {},
   "cell_type": "code",
   "source": [
    "# Extract the table headers\n",
    "header = rows[0]"
   ],
   "id": "953bca15796c432e",
   "outputs": [],
   "execution_count": null
  },
  {
   "metadata": {},
   "cell_type": "code",
   "source": [
    "# Extract the table data\n",
    "data = rows[1:]"
   ],
   "id": "e6bd7c823d32d2c1",
   "outputs": [],
   "execution_count": null
  },
  {
   "metadata": {},
   "cell_type": "code",
   "source": [
    "# Put the data into a dictionary\n",
    "data_dict = {}\n",
    "for row in data:\n",
    "    cells = row.find_all('td')\n",
    "    data_dict[cells[0].text] = [cell.text for cell in cells[1:]]\n",
    "data_dict"
   ],
   "id": "a19b7e2414a26155",
   "outputs": [],
   "execution_count": null
  },
  {
   "metadata": {},
   "cell_type": "code",
   "source": [
    "# Extract the table headers\n",
    "header_cells = header.find_all('td')\n",
    "header_cells"
   ],
   "id": "74b33699f537ee13",
   "outputs": [],
   "execution_count": null
  },
  {
   "metadata": {},
   "cell_type": "code",
   "source": [
    "# Extract the header names\n",
    "header_names = [cell.text for cell in header_cells if cell.text != '']\n",
    "header_names"
   ],
   "id": "1eca979a51e1c64b",
   "outputs": [],
   "execution_count": null
  },
  {
   "metadata": {},
   "cell_type": "code",
   "source": [
    "# Put the data into a pandas DataFrame\n",
    "df = pd.DataFrame(data_dict).T\n",
    "df.columns = header_names\n",
    "df"
   ],
   "id": "146c10163e357be1",
   "outputs": [],
   "execution_count": null
  },
  {
   "metadata": {},
   "cell_type": "code",
   "source": [
    "# Remove the TOTAL row\n",
    "df = df[df.Building != 'TOTAL']"
   ],
   "id": "9e14684d40aece2",
   "outputs": [],
   "execution_count": null
  },
  {
   "metadata": {},
   "cell_type": "code",
   "source": [
    "# Drop the index\n",
    "df = df.reset_index(drop=True)"
   ],
   "id": "9b5e77520b9ae401",
   "outputs": [],
   "execution_count": null
  },
  {
   "metadata": {
    "ExecuteTime": {
     "end_time": "2025-03-18T19:45:14.517068Z",
     "start_time": "2025-03-18T19:45:14.500962Z"
    }
   },
   "cell_type": "code",
   "source": [
    "# Convert the columns to numeric\n",
    "non_numic_cols = ['Building', 'Duration']\n",
    "cols_to_convert = [col for col in df.columns if col not in non_numic_cols]\n",
    "df[cols_to_convert] = df[cols_to_convert].apply(lambda s: s.str.replace(',', ''))\n",
    "df[cols_to_convert] = df[cols_to_convert].apply(pd.to_numeric)"
   ],
   "id": "720880324fbf09d6",
   "outputs": [],
   "execution_count": 42
  },
  {
   "metadata": {
    "ExecuteTime": {
     "end_time": "2025-03-18T19:59:04.130358Z",
     "start_time": "2025-03-18T19:59:04.117075Z"
    }
   },
   "cell_type": "code",
   "source": [
    "# Create a new column for Duration in minutes\n",
    "df['Duration (min)'] = df['Duration'].apply(time_conversions.to_minutes)"
   ],
   "id": "800b667b42131ad2",
   "outputs": [],
   "execution_count": 45
  },
  {
   "metadata": {
    "ExecuteTime": {
     "end_time": "2025-03-18T19:59:29.053469Z",
     "start_time": "2025-03-18T19:59:29.036457Z"
    }
   },
   "cell_type": "code",
   "source": [
    "# Save the DataFrame to a CSV file\n",
    "df.to_csv('data.csv', index=False)"
   ],
   "id": "e985f23b77b804f0",
   "outputs": [],
   "execution_count": 46
  }
 ],
 "metadata": {
  "kernelspec": {
   "display_name": "Python 3",
   "language": "python",
   "name": "python3"
  },
  "language_info": {
   "codemirror_mode": {
    "name": "ipython",
    "version": 2
   },
   "file_extension": ".py",
   "mimetype": "text/x-python",
   "name": "python",
   "nbconvert_exporter": "python",
   "pygments_lexer": "ipython2",
   "version": "2.7.6"
  }
 },
 "nbformat": 4,
 "nbformat_minor": 5
}
